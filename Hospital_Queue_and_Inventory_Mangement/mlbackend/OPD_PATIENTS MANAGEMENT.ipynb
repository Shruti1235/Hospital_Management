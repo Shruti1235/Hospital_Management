{
 "cells": [
  {
   "cell_type": "code",
   "execution_count": 2,
   "id": "b9147fbf",
   "metadata": {},
   "outputs": [
    {
     "name": "stdout",
     "output_type": "stream",
     "text": [
      "MAE for Emergency: 3.2562328767123287, MAE for OPD: 2.6880136986301375\n",
      "Predicted Emergency Patients: 12, Predicted OPD Patients: 6\n"
     ]
    }
   ],
   "source": [
    "import pandas as pd\n",
    "from sklearn.model_selection import train_test_split\n",
    "from sklearn.ensemble import RandomForestRegressor\n",
    "from sklearn.metrics import mean_absolute_error\n",
    "\n",
    "# Load dataset\n",
    "file_path = r\"/home/tanmay08/Desktop/PC/vsmhackathon/mlbackend/data.csv\"\n",
    "df = pd.read_csv(file_path)\n",
    "\n",
    "df['D.O.A'] = pd.to_datetime(df['D.O.A'], errors='coerce')\n",
    "\n",
    "# Filter relevant columns\n",
    "daily_counts = df.groupby(['D.O.A', 'TYPE OF ADMISSION-EMERGENCY/OPD']).size().unstack(fill_value=0)\n",
    "daily_counts.columns = ['Emergency_Patients', 'OPD_Patients']\n",
    "daily_counts = daily_counts.reset_index()\n",
    "\n",
    "# Feature Engineering\n",
    "daily_counts['Day'] = daily_counts['D.O.A'].dt.day\n",
    "daily_counts['Month'] = daily_counts['D.O.A'].dt.month\n",
    "daily_counts['Weekday'] = daily_counts['D.O.A'].dt.weekday\n",
    "daily_counts['Prev_Emergency'] = daily_counts['Emergency_Patients'].shift(1).fillna(0)\n",
    "daily_counts['Prev_OPD'] = daily_counts['OPD_Patients'].shift(1).fillna(0)\n",
    "\n",
    "# Define features and target variables\n",
    "X = daily_counts[['Day', 'Month', 'Weekday', 'Prev_Emergency', 'Prev_OPD']]\n",
    "y_emergency = daily_counts['Emergency_Patients']\n",
    "y_opd = daily_counts['OPD_Patients']\n",
    "\n",
    "# Train-test split\n",
    "X_train, X_test, y_train_emergency, y_test_emergency = train_test_split(X, y_emergency, test_size=0.2, random_state=42)\n",
    "X_train, X_test, y_train_opd, y_test_opd = train_test_split(X, y_opd, test_size=0.2, random_state=42)\n",
    "\n",
    "# Train models\n",
    "rf_emergency = RandomForestRegressor(n_estimators=100, random_state=42)\n",
    "rf_opd = RandomForestRegressor(n_estimators=100, random_state=42)\n",
    "rf_emergency.fit(X_train, y_train_emergency)\n",
    "rf_opd.fit(X_train, y_train_opd)\n",
    "\n",
    "# Make predictions\n",
    "preds_emergency = rf_emergency.predict(X_test)\n",
    "preds_opd = rf_opd.predict(X_test)\n",
    "\n",
    "# Evaluate model\n",
    "mae_emergency = mean_absolute_error(y_test_emergency, preds_emergency)\n",
    "mae_opd = mean_absolute_error(y_test_opd, preds_opd)\n",
    "print(f\"MAE for Emergency: {mae_emergency}, MAE for OPD: {mae_opd}\")\n",
    "\n",
    "# Function to predict future patient counts\n",
    "def predict_patients(day, month, weekday, prev_emergency, prev_opd):\n",
    "    input_data = pd.DataFrame([[day, month, weekday, prev_emergency, prev_opd]], \n",
    "                              columns=['Day', 'Month', 'Weekday', 'Prev_Emergency', 'Prev_OPD'])\n",
    "    pred_emergency = rf_emergency.predict(input_data)[0]\n",
    "    pred_opd = rf_opd.predict(input_data)[0]\n",
    "    return round(pred_emergency), round(pred_opd)\n",
    "\n",
    "# Example prediction\n",
    "future_day, future_month, future_weekday = 15, 2, 3  # Example: 15th Feb, Wednesday\n",
    "pred_emergency, pred_opd = predict_patients(future_day, future_month, future_weekday, 10, 15)\n",
    "print(f\"Predicted Emergency Patients: {pred_emergency}, Predicted OPD Patients: {pred_opd}\")\n"
   ]
  },
  {
   "cell_type": "code",
   "execution_count": 3,
   "id": "5f230936",
   "metadata": {},
   "outputs": [
    {
     "name": "stdout",
     "output_type": "stream",
     "text": [
      "Models saved successfully!\n"
     ]
    }
   ],
   "source": [
    "import joblib\n",
    "\n",
    "# Save the trained models\n",
    "joblib.dump(rf_emergency, \"rf_emergency_model.pkl\")\n",
    "joblib.dump(rf_opd, \"rf_opd_model.pkl\")\n",
    "\n",
    "print(\"Models saved successfully!\")\n"
   ]
  },
  {
   "cell_type": "code",
   "execution_count": 4,
   "id": "e76c37bf",
   "metadata": {},
   "outputs": [
    {
     "name": "stdout",
     "output_type": "stream",
     "text": [
      "Combined model saved successfully!\n"
     ]
    }
   ],
   "source": [
    "import joblib\n",
    "\n",
    "# Combine both models into a dictionary\n",
    "models = {\n",
    "    \"rf_emergency\": rf_emergency,\n",
    "    \"rf_opd\": rf_opd\n",
    "}\n",
    "\n",
    "# Save the combined model\n",
    "joblib.dump(models, \"patient_prediction_model.pkl\")\n",
    "\n",
    "print(\"Combined model saved successfully!\")\n"
   ]
  },
  {
   "cell_type": "code",
   "execution_count": 5,
   "id": "189f54df",
   "metadata": {},
   "outputs": [
    {
     "name": "stdout",
     "output_type": "stream",
     "text": [
      "Combined model saved successfully!\n"
     ]
    }
   ],
   "source": [
    "import joblib\n",
    "\n",
    "# Combine both models into a dictionary\n",
    "models = {\n",
    "    \"rf_emergency\": rf_emergency,\n",
    "    \"rf_opd\": rf_opd\n",
    "}\n",
    "\n",
    "# Save the model in binary mode\n",
    "with open(\"patient_prediction_model.pkl\", \"wb\") as f:\n",
    "    joblib.dump(models, f)\n",
    "\n",
    "print(\"Combined model saved successfully!\")\n"
   ]
  },
  {
   "cell_type": "code",
   "execution_count": null,
   "id": "1c4f2c77",
   "metadata": {},
   "outputs": [],
   "source": []
  }
 ],
 "metadata": {
  "kernelspec": {
   "display_name": "Python 3",
   "language": "python",
   "name": "python3"
  },
  "language_info": {
   "codemirror_mode": {
    "name": "ipython",
    "version": 3
   },
   "file_extension": ".py",
   "mimetype": "text/x-python",
   "name": "python",
   "nbconvert_exporter": "python",
   "pygments_lexer": "ipython3",
   "version": "3.10.12"
  }
 },
 "nbformat": 4,
 "nbformat_minor": 5
}
